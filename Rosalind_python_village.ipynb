{
 "cells": [
  {
   "cell_type": "markdown",
   "id": "eb022ee4",
   "metadata": {},
   "source": [
    "### Problem 1"
   ]
  },
  {
   "cell_type": "code",
   "execution_count": 1,
   "id": "5d60b6e9",
   "metadata": {},
   "outputs": [
    {
     "name": "stdout",
     "output_type": "stream",
     "text": [
      "The Zen of Python, by Tim Peters\n",
      "\n",
      "Beautiful is better than ugly.\n",
      "Explicit is better than implicit.\n",
      "Simple is better than complex.\n",
      "Complex is better than complicated.\n",
      "Flat is better than nested.\n",
      "Sparse is better than dense.\n",
      "Readability counts.\n",
      "Special cases aren't special enough to break the rules.\n",
      "Although practicality beats purity.\n",
      "Errors should never pass silently.\n",
      "Unless explicitly silenced.\n",
      "In the face of ambiguity, refuse the temptation to guess.\n",
      "There should be one-- and preferably only one --obvious way to do it.\n",
      "Although that way may not be obvious at first unless you're Dutch.\n",
      "Now is better than never.\n",
      "Although never is often better than *right* now.\n",
      "If the implementation is hard to explain, it's a bad idea.\n",
      "If the implementation is easy to explain, it may be a good idea.\n",
      "Namespaces are one honking great idea -- let's do more of those!\n"
     ]
    }
   ],
   "source": [
    "import this"
   ]
  },
  {
   "cell_type": "markdown",
   "id": "21e17632",
   "metadata": {},
   "source": [
    "### Problem 2"
   ]
  },
  {
   "cell_type": "code",
   "execution_count": 2,
   "id": "3d1ec2a9",
   "metadata": {},
   "outputs": [],
   "source": [
    "import numpy as np"
   ]
  },
  {
   "cell_type": "code",
   "execution_count": 3,
   "id": "18c60670",
   "metadata": {},
   "outputs": [
    {
     "data": {
      "text/plain": [
       "1608626"
      ]
     },
     "execution_count": 3,
     "metadata": {},
     "output_type": "execute_result"
    }
   ],
   "source": [
    "a=985\n",
    "b=799\n",
    "c= a**2+b**2\n",
    "c"
   ]
  },
  {
   "cell_type": "markdown",
   "id": "24c64002",
   "metadata": {},
   "source": [
    "### Problem 3"
   ]
  },
  {
   "cell_type": "code",
   "execution_count": 4,
   "id": "0f0db0b0",
   "metadata": {},
   "outputs": [],
   "source": [
    "string ='IAlyz5yKFeGLYhmw5iyyYIHoT60MVGKZivFVOkuD7CRCorvusXUj1v4ffvp6wFyAUqyduplexnHobyyC3rdm2cVY1JHNJfdJfKOMX2TNYX4vpC2DeMHDAu3eyR8GaNgk4VMVgG4zuWKTT78qVphcJvXulFoEfhzq'\n",
    "a=43 \n",
    "b=48+1\n",
    "c=67 \n",
    "d=72+1"
   ]
  },
  {
   "cell_type": "code",
   "execution_count": 5,
   "id": "0bec461c",
   "metadata": {},
   "outputs": [
    {
     "name": "stdout",
     "output_type": "stream",
     "text": [
      "Corvus duplex\n"
     ]
    }
   ],
   "source": [
    "result = string[a:b]+ ' ' + string[c:d]\n",
    "print (result)"
   ]
  },
  {
   "cell_type": "markdown",
   "id": "8e03af60",
   "metadata": {},
   "source": [
    "### Problem 4"
   ]
  },
  {
   "cell_type": "code",
   "execution_count": 7,
   "id": "3aa1c17d",
   "metadata": {},
   "outputs": [],
   "source": [
    "a=4243\n",
    "b=9133"
   ]
  },
  {
   "cell_type": "code",
   "execution_count": 8,
   "id": "3cb866e4",
   "metadata": {},
   "outputs": [
    {
     "name": "stdout",
     "output_type": "stream",
     "text": [
      "16358848\n"
     ]
    }
   ],
   "source": [
    "j=0\n",
    "for i in range(a,b+1):\n",
    "    if i %2 ==1:\n",
    "        j +=i\n",
    "print (j)"
   ]
  },
  {
   "cell_type": "markdown",
   "id": "b7d44802",
   "metadata": {},
   "source": [
    "### Problem 5"
   ]
  },
  {
   "cell_type": "code",
   "execution_count": 9,
   "id": "30400413",
   "metadata": {},
   "outputs": [],
   "source": [
    "path=r\"C:\\Users\\sylv_\\Desktop\\Rosalind download\\rosalind_ini5.txt\""
   ]
  },
  {
   "cell_type": "code",
   "execution_count": 10,
   "id": "bbade488",
   "metadata": {},
   "outputs": [
    {
     "name": "stdout",
     "output_type": "stream",
     "text": [
      "['`Twas brillig, and the slithy toves\\n', 'Some things in life are bad, they can really make you mad\\n', '  Did gyre and gimble in the wabe:\\n', 'Other things just make you swear and curse\\n', 'All mimsy were the borogoves,\\n', \"When you're chewing on life's gristle, don't grumble give a whistle\\n\", '  And the mome raths outgrabe.\\n', 'This will help things turn out for the best\\n', '\"Beware the Jabberwock, my son!\\n', 'Always look on the bright side of life\\n', '  The jaws that bite, the claws that catch!\\n', 'Always look on the right side of life\\n', 'Beware the Jubjub bird, and shun\\n', \"If life seems jolly rotten, there's something you've forgotten\\n\", '  The frumious Bandersnatch!\"\\n', \"And that's to laugh and smile and dance and sing\\n\", 'He took his vorpal sword in hand:\\n', \"When you're feeling in the dumps, don't be silly, chumps\\n\", '  Long time the manxome foe he sought --\\n', \"Just purse your lips and whistle, that's the thing\\n\", 'So rested he by the Tumtum tree,\\n', 'So, always look on the bright side of death\\n', '  And stood awhile in thought.\\n', 'Just before you draw your terminal breath\\n', 'And, as in uffish thought he stood,\\n', \"Life's a counterfeit and when you look at it\\n\", '  The Jabberwock, with eyes of flame,\\n', \"Life's a laugh and death's the joke, it's true\\n\", 'Came whiffling through the tulgey wood,\\n', \"You see, it's all a show, keep them laughing as you go\\n\", '  And burbled as it came!\\n', 'Just remember the last laugh is on you\\n', 'One, two! One, two! And through and through\\n', 'Always look on the bright side of life\\n', '  The vorpal blade went snicker-snack!\\n', 'And always look on the right side of life\\n', 'He left it dead, and with its head\\n', 'Always look on the bright side of life\\n', '  He went galumphing back.\\n', 'And always look on the right side of life\\n']\n",
      "['Some things in life are bad, they can really make you mad\\n', 'Other things just make you swear and curse\\n', \"When you're chewing on life's gristle, don't grumble give a whistle\\n\", 'This will help things turn out for the best\\n', 'Always look on the bright side of life\\n', 'Always look on the right side of life\\n', \"If life seems jolly rotten, there's something you've forgotten\\n\", \"And that's to laugh and smile and dance and sing\\n\", \"When you're feeling in the dumps, don't be silly, chumps\\n\", \"Just purse your lips and whistle, that's the thing\\n\", 'So, always look on the bright side of death\\n', 'Just before you draw your terminal breath\\n', \"Life's a counterfeit and when you look at it\\n\", \"Life's a laugh and death's the joke, it's true\\n\", \"You see, it's all a show, keep them laughing as you go\\n\", 'Just remember the last laugh is on you\\n', 'Always look on the bright side of life\\n', 'And always look on the right side of life\\n', 'Always look on the bright side of life\\n', 'And always look on the right side of life\\n']\n"
     ]
    }
   ],
   "source": [
    "f = open(path, 'r')\n",
    "g = open(r\"C:\\Users\\sylv_\\Desktop\\Rosalind download\\output_rosalind_ini5.txt\", 'w')\n",
    "\n",
    "liste=[]\n",
    "for i in f:\n",
    "    liste.append(i)\n",
    "print(liste)\n",
    "\n",
    "liste_res=[]\n",
    "for i in range (len(liste)):\n",
    "    if i%2 ==1:\n",
    "        liste_res.append(liste[i])\n",
    "print(liste_res)\n",
    "my_string = ''.join(liste_res)\n",
    "g.write(my_string)\n",
    "\n",
    "f.close()\n",
    "g.close()"
   ]
  },
  {
   "cell_type": "markdown",
   "id": "5f12d114",
   "metadata": {},
   "source": [
    "### Problem 6"
   ]
  },
  {
   "cell_type": "code",
   "execution_count": 11,
   "id": "838fce8e",
   "metadata": {},
   "outputs": [
    {
     "name": "stdout",
     "output_type": "stream",
     "text": [
      "{'When': 1, 'I': 2, 'find': 1, 'myself': 1, 'in': 4, 'times': 1, 'of': 11, 'trouble': 1, 'Mother': 2, 'Mary': 2, 'comes': 2, 'to': 3, 'me': 4, 'Speaking': 3, 'words': 7, 'wisdom': 7, 'let': 30, 'it': 36, 'be': 41, 'And': 3, 'my': 1, 'hour': 1, 'darkness': 1, 'she': 1, 'is': 4, 'standing': 1, 'right': 1, 'front': 1, 'Let': 6, 'Whisper': 4, 'when': 2, 'the': 4, 'broken': 1, 'hearted': 1, 'people': 1, 'living': 1, 'world': 1, 'agree': 1, 'There': 4, 'will': 5, 'an': 4, 'answer': 4, 'For': 1, 'though': 1, 'they': 2, 'may': 1, 'parted': 1, 'there': 2, 'still': 2, 'a': 2, 'chance': 1, 'that': 2, 'see': 1, 'night': 1, 'cloudy': 1, 'light': 1, 'shines': 1, 'on': 1, 'Shine': 1, 'until': 1, 'tomorrow': 1, 'wake': 1, 'up': 1, 'sound': 1, 'music': 1, 'yeah': 2}\n"
     ]
    },
    {
     "data": {
      "text/plain": [
       "{'When': 1,\n",
       " 'I': 2,\n",
       " 'find': 1,\n",
       " 'myself': 1,\n",
       " 'in': 4,\n",
       " 'times': 1,\n",
       " 'of': 11,\n",
       " 'trouble': 1,\n",
       " 'Mother': 2,\n",
       " 'Mary': 2,\n",
       " 'comes': 2,\n",
       " 'to': 3,\n",
       " 'me': 4,\n",
       " 'Speaking': 3,\n",
       " 'words': 7,\n",
       " 'wisdom': 7,\n",
       " 'let': 30,\n",
       " 'it': 36,\n",
       " 'be': 41,\n",
       " 'And': 3,\n",
       " 'my': 1,\n",
       " 'hour': 1,\n",
       " 'darkness': 1,\n",
       " 'she': 1,\n",
       " 'is': 4,\n",
       " 'standing': 1,\n",
       " 'right': 1,\n",
       " 'front': 1,\n",
       " 'Let': 6,\n",
       " 'Whisper': 4,\n",
       " 'when': 2,\n",
       " 'the': 4,\n",
       " 'broken': 1,\n",
       " 'hearted': 1,\n",
       " 'people': 1,\n",
       " 'living': 1,\n",
       " 'world': 1,\n",
       " 'agree': 1,\n",
       " 'There': 4,\n",
       " 'will': 5,\n",
       " 'an': 4,\n",
       " 'answer': 4,\n",
       " 'For': 1,\n",
       " 'though': 1,\n",
       " 'they': 2,\n",
       " 'may': 1,\n",
       " 'parted': 1,\n",
       " 'there': 2,\n",
       " 'still': 2,\n",
       " 'a': 2,\n",
       " 'chance': 1,\n",
       " 'that': 2,\n",
       " 'see': 1,\n",
       " 'night': 1,\n",
       " 'cloudy': 1,\n",
       " 'light': 1,\n",
       " 'shines': 1,\n",
       " 'on': 1,\n",
       " 'Shine': 1,\n",
       " 'until': 1,\n",
       " 'tomorrow': 1,\n",
       " 'wake': 1,\n",
       " 'up': 1,\n",
       " 'sound': 1,\n",
       " 'music': 1,\n",
       " 'yeah': 2}"
      ]
     },
     "execution_count": 11,
     "metadata": {},
     "output_type": "execute_result"
    }
   ],
   "source": [
    "string = \"When I find myself in times of trouble Mother Mary comes to me Speaking words of wisdom let it be And in my hour of darkness she is standing right in front of me Speaking words of wisdom let it be Let it be let it be let it be let it be Whisper words of wisdom let it be And when the broken hearted people living in the world agree There will be an answer let it be For though they may be parted there is still a chance that they will see There will be an answer let it be Let it be let it be let it be let it be There will be an answer let it be Let it be let it be let it be let it be Whisper words of wisdom let it be Let it be let it be let it be let it be Whisper words of wisdom let it be And when the night is cloudy there is still a light that shines on me Shine until tomorrow let it be I wake up to the sound of music Mother Mary comes to me Speaking words of wisdom let it be Let it be let it be let it be yeah let it be There will be an answer let it be Let it be let it be let it be yeah let it be Whisper words of wisdom let it be\"\n",
    "word_counts = {}\n",
    "for word in string.split():\n",
    "    if word in word_counts:\n",
    "        word_counts[word] += 1\n",
    "    else:\n",
    "        word_counts[word] = 1\n",
    "print(word_counts)\n",
    "word_counts"
   ]
  },
  {
   "cell_type": "code",
   "execution_count": 12,
   "id": "d59976d6",
   "metadata": {},
   "outputs": [
    {
     "name": "stdout",
     "output_type": "stream",
     "text": [
      "When 1\n",
      "I 2\n",
      "find 1\n",
      "myself 1\n",
      "in 4\n",
      "times 1\n",
      "of 11\n",
      "trouble 1\n",
      "Mother 2\n",
      "Mary 2\n",
      "comes 2\n",
      "to 3\n",
      "me 4\n",
      "Speaking 3\n",
      "words 7\n",
      "wisdom 7\n",
      "let 30\n",
      "it 36\n",
      "be 41\n",
      "And 3\n",
      "my 1\n",
      "hour 1\n",
      "darkness 1\n",
      "she 1\n",
      "is 4\n",
      "standing 1\n",
      "right 1\n",
      "front 1\n",
      "Let 6\n",
      "Whisper 4\n",
      "when 2\n",
      "the 4\n",
      "broken 1\n",
      "hearted 1\n",
      "people 1\n",
      "living 1\n",
      "world 1\n",
      "agree 1\n",
      "There 4\n",
      "will 5\n",
      "an 4\n",
      "answer 4\n",
      "For 1\n",
      "though 1\n",
      "they 2\n",
      "may 1\n",
      "parted 1\n",
      "there 2\n",
      "still 2\n",
      "a 2\n",
      "chance 1\n",
      "that 2\n",
      "see 1\n",
      "night 1\n",
      "cloudy 1\n",
      "light 1\n",
      "shines 1\n",
      "on 1\n",
      "Shine 1\n",
      "until 1\n",
      "tomorrow 1\n",
      "wake 1\n",
      "up 1\n",
      "sound 1\n",
      "music 1\n",
      "yeah 2\n"
     ]
    }
   ],
   "source": [
    "for elem in word_counts:\n",
    "    print (elem,  word_counts[elem])"
   ]
  }
 ],
 "metadata": {
  "kernelspec": {
   "display_name": "Python 3 (ipykernel)",
   "language": "python",
   "name": "python3"
  },
  "language_info": {
   "codemirror_mode": {
    "name": "ipython",
    "version": 3
   },
   "file_extension": ".py",
   "mimetype": "text/x-python",
   "name": "python",
   "nbconvert_exporter": "python",
   "pygments_lexer": "ipython3",
   "version": "3.9.16"
  }
 },
 "nbformat": 4,
 "nbformat_minor": 5
}
